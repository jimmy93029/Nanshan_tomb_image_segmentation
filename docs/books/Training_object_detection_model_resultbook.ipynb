{
  "nbformat": 4,
  "nbformat_minor": 0,
  "metadata": {
    "colab": {
      "provenance": [],
      "machine_shape": "hm",
      "gpuType": "T4",
      "mount_file_id": "https://github.com/jimmy93029/Nanshan_tomb_image_segmentation/blob/main/Training_object_detection_model_workbook.ipynb",
      "authorship_tag": "ABX9TyMR0cIkVxSmHbGfACMIyCRG",
      "include_colab_link": true
    },
    "kernelspec": {
      "name": "python3",
      "display_name": "Python 3"
    },
    "language_info": {
      "name": "python"
    },
    "accelerator": "GPU"
  },
  "cells": [
    {
      "cell_type": "markdown",
      "metadata": {
        "id": "view-in-github",
        "colab_type": "text"
      },
      "source": [
        "<a href=\"https://colab.research.google.com/github/jimmy93029/Nanshan_tomb_image_segmentation/blob/main/docs/Training_object_detection_model_resultbook.ipynb\" target=\"_parent\"><img src=\"https://colab.research.google.com/assets/colab-badge.svg\" alt=\"Open In Colab\"/></a>"
      ]
    },
    {
      "cell_type": "markdown",
      "source": [
        "## Training_object_detection_model_resultbook"
      ],
      "metadata": {
        "id": "AiqNn7Ca1sob"
      }
    },
    {
      "cell_type": "markdown",
      "source": [
        "此 colab 程式碼負責訓練模型。訓練好的模型可以在 Project_Nanshang or Predicting_mask_for_tifimage.ipynb 來建構地圖遮罩的 shp 檔。\n",
        "另外，本程式碼是從 Roboflow [train-yolo-nas-on-custom-dataset.ipynb](https://github.com/roboflow/notebooks/blob/main/notebooks/train-yolo-nas-on-custom-dataset.ipynb) 而來，更多細節可以參考 Roboflow 的教程"
      ],
      "metadata": {
        "id": "mxd40UGx16TX"
      }
    },
    {
      "cell_type": "markdown",
      "source": [
        "### ⚡ Before you start\n",
        "\n",
        "Let's make sure that we have access to GPU. We can use `nvidia-smi` command to do that. In case of any problems navigate to `Edit` -> `Notebook settings` -> `Hardware accelerator`, set it to `GPU`, and then click `Save`."
      ],
      "metadata": {
        "id": "ezMvuPAM2_G6"
      }
    },
    {
      "cell_type": "code",
      "source": [
        "!nvidia-smi"
      ],
      "metadata": {
        "id": "P7U1ci3F25do"
      },
      "execution_count": null,
      "outputs": []
    },
    {
      "cell_type": "markdown",
      "source": [
        "**NOTE:** To make it easier for us to manage datasets, images and models we create a `HOME` constant."
      ],
      "metadata": {
        "id": "LwS8yEQT555y"
      }
    },
    {
      "cell_type": "code",
      "source": [
        "import os\n",
        "HOME = os.getcwd()\n",
        "print(HOME)"
      ],
      "metadata": {
        "id": "bY_DJZ7I50zw",
        "outputId": "0340c061-7150-450a-e1a0-86813e65d749",
        "colab": {
          "base_uri": "https://localhost:8080/"
        }
      },
      "execution_count": null,
      "outputs": [
        {
          "output_type": "stream",
          "name": "stdout",
          "text": [
            "/content\n"
          ]
        }
      ]
    },
    {
      "cell_type": "markdown",
      "source": [
        "### Then, we are going to train our object detection model"
      ],
      "metadata": {
        "id": "cv9HGmAd6BoC"
      }
    },
    {
      "cell_type": "markdown",
      "source": [
        "#### Install YOLO-NAS"
      ],
      "metadata": {
        "id": "h1_xD2Ic4CiT"
      }
    },
    {
      "cell_type": "code",
      "source": [
        "!pip install -q super-gradients==3.1.3\n",
        "!pip install -q roboflow\n",
        "!pip install -q supervision"
      ],
      "metadata": {
        "id": "9Do6gZ0C4Awv"
      },
      "execution_count": null,
      "outputs": []
    },
    {
      "cell_type": "markdown",
      "source": [
        "### 🚨 Restart the runtime\n",
        "\n",
        "**After installation is complete, you'll need to restart the runtime after installation completes. Navigate to `Runtime` -> `Restart runtime` and confirm by clicking `Yes` when you see the popup.**\n",
        "\n",
        "After that, carry on with the notebook starting from the cell below"
      ],
      "metadata": {
        "id": "rjaY5ZH-4Ian"
      }
    },
    {
      "cell_type": "code",
      "source": [
        "import torch\n",
        "\n",
        "DEVICE = 'cuda' if torch.cuda.is_available() else \"cpu\"\n",
        "MODEL_ARCH = 'yolo_nas_l'"
      ],
      "metadata": {
        "id": "bfRvqVhJ4OQh"
      },
      "execution_count": null,
      "outputs": []
    },
    {
      "cell_type": "code",
      "source": [
        "from super_gradients.training import models\n",
        "\n",
        "model = models.get(MODEL_ARCH, pretrained_weights=\"coco\").to(DEVICE)"
      ],
      "metadata": {
        "id": "svDPtEXK4Qad"
      },
      "execution_count": null,
      "outputs": []
    },
    {
      "cell_type": "markdown",
      "source": [
        "### Roboflow provide a strong platform for us to annotate and preprocess our data,\n",
        "In this project, we will also use roboflow's tool to store our data.\n",
        "make sure you are already have a project on roboflow\n",
        "\n",
        "[![Roboflow Universe](https://media.roboflow.com/notebooks/template/uni-banner-frame.png?ik-sdk-version=javascript-1.4.3&updatedAt=1672878480290)](https://universe.roboflow.com/)"
      ],
      "metadata": {
        "id": "nD0hleI64dL8"
      }
    },
    {
      "cell_type": "markdown",
      "source": [
        "Let's login roboflow and spedify our project name"
      ],
      "metadata": {
        "id": "Yef9ESCI5eW1"
      }
    },
    {
      "cell_type": "code",
      "source": [
        "\n",
        "%cd {HOME}\n",
        "\n",
        "import roboflow\n",
        "from roboflow import Roboflow\n",
        "\n",
        "roboflow.login()\n",
        "\n",
        "rf = Roboflow()\n",
        "\n",
        "project = rf.workspace().project(\"nanshang_tomb\")\n",
        "dataset = project.version(1).download(\"yolov5\")"
      ],
      "metadata": {
        "id": "P7X2VyOq5HBe",
        "outputId": "7b4a6ad6-fbea-4894-8ae6-9eda20607f42",
        "colab": {
          "base_uri": "https://localhost:8080/"
        }
      },
      "execution_count": null,
      "outputs": [
        {
          "output_type": "stream",
          "name": "stdout",
          "text": [
            "/content\n",
            "\rvisit https://app.roboflow.com/auth-cli to get your authentication token.\n",
            "Paste the authentication token here: ··········\n",
            "loading Roboflow workspace...\n",
            "loading Roboflow project...\n",
            "Downloading Dataset Version Zip in NanShang_tomb-1 to yolov5pytorch: 100% [22291323 / 22291323] bytes\n"
          ]
        }
      ]
    },
    {
      "cell_type": "code",
      "source": [
        "LOCATION = dataset.location\n",
        "print(\"location:\", LOCATION)\n",
        "CLASSES = sorted(project.classes.keys())\n",
        "print(\"classes:\", CLASSES)"
      ],
      "metadata": {
        "id": "HCJnSBr85w2K"
      },
      "execution_count": null,
      "outputs": []
    },
    {
      "cell_type": "markdown",
      "source": [
        "## Fine-tune on custom dataset\n",
        "\n",
        "`ckpt_root_dir` - this is the directory where results from all your experiments will be saved\n",
        "\n",
        "`experiment_name` - all checkpoints, logs, and tensorboards will be saved in a directory with the name you specify here."
      ],
      "metadata": {
        "id": "hi2B12oZ6pLF"
      }
    },
    {
      "cell_type": "markdown",
      "source": [
        "### settings"
      ],
      "metadata": {
        "id": "1Ebl6mDFSKfO"
      }
    },
    {
      "cell_type": "code",
      "source": [
        "MODEL_ARCH = 'yolo_nas_l'\n",
        "BATCH_SIZE = 8\n",
        "MAX_EPOCHS = 30\n",
        "SCORE_THRSHOLD = 0.5\n",
        "CHECKPOINT_DIR = f'{HOME}/checkpoints'\n",
        "EXPERIMENT_NAME = project.name.lower().replace(\" \", \"_\")"
      ],
      "metadata": {
        "id": "ezGQguZ36sBO"
      },
      "execution_count": null,
      "outputs": []
    },
    {
      "cell_type": "code",
      "source": [
        "from super_gradients.training import Trainer\n",
        "\n",
        "trainer = Trainer(experiment_name=EXPERIMENT_NAME, ckpt_root_dir=CHECKPOINT_DIR)"
      ],
      "metadata": {
        "id": "yXGoFPW16t59"
      },
      "execution_count": null,
      "outputs": []
    },
    {
      "cell_type": "code",
      "source": [
        "dataset_params = {\n",
        "    'data_dir': LOCATION,\n",
        "    'train_images_dir':'train/images',\n",
        "    'train_labels_dir':'train/labels',\n",
        "    'val_images_dir':'valid/images',\n",
        "    'val_labels_dir':'valid/labels',\n",
        "    'test_images_dir':'test/images',\n",
        "    'test_labels_dir':'test/labels',\n",
        "    'classes': CLASSES\n",
        "}"
      ],
      "metadata": {
        "id": "CttpAci16vYJ"
      },
      "execution_count": null,
      "outputs": []
    },
    {
      "cell_type": "code",
      "source": [
        "from super_gradients.training.dataloaders.dataloaders import (\n",
        "    coco_detection_yolo_format_train, coco_detection_yolo_format_val)\n",
        "\n",
        "train_data = coco_detection_yolo_format_train(\n",
        "    dataset_params={\n",
        "        'data_dir': dataset_params['data_dir'],\n",
        "        'images_dir': dataset_params['train_images_dir'],\n",
        "        'labels_dir': dataset_params['train_labels_dir'],\n",
        "        'classes': dataset_params['classes']\n",
        "    },\n",
        "    dataloader_params={\n",
        "        'batch_size': BATCH_SIZE,\n",
        "        'num_workers': 2\n",
        "    }\n",
        ")\n",
        "\n",
        "val_data = coco_detection_yolo_format_val(\n",
        "    dataset_params={\n",
        "        'data_dir': dataset_params['data_dir'],\n",
        "        'images_dir': dataset_params['val_images_dir'],\n",
        "        'labels_dir': dataset_params['val_labels_dir'],\n",
        "        'classes': dataset_params['classes']\n",
        "    },\n",
        "    dataloader_params={\n",
        "        'batch_size': BATCH_SIZE,\n",
        "        'num_workers': 2\n",
        "    }\n",
        ")\n",
        "\n",
        "test_data = coco_detection_yolo_format_val(\n",
        "    dataset_params={\n",
        "        'data_dir': dataset_params['data_dir'],\n",
        "        'images_dir': dataset_params['test_images_dir'],\n",
        "        'labels_dir': dataset_params['test_labels_dir'],\n",
        "        'classes': dataset_params['classes']\n",
        "    },\n",
        "    dataloader_params={\n",
        "        'batch_size': BATCH_SIZE,\n",
        "        'num_workers': 2\n",
        "    }\n",
        ")"
      ],
      "metadata": {
        "id": "VGxTCjyf6x5G",
        "outputId": "9fd75759-1c0f-49cb-a6aa-c88f77600016",
        "colab": {
          "base_uri": "https://localhost:8080/"
        }
      },
      "execution_count": null,
      "outputs": [
        {
          "output_type": "stream",
          "name": "stderr",
          "text": [
            "\rCaching annotations:   0%|          | 0/537 [00:00<?, ?it/s]\rCaching annotations:  98%|█████████▊| 525/537 [00:00<00:00, 5244.80it/s]\rCaching annotations: 100%|██████████| 537/537 [00:00<00:00, 5250.27it/s]\n"
          ]
        }
      ]
    },
    {
      "cell_type": "markdown",
      "source": [
        "### Instantiate the model"
      ],
      "metadata": {
        "id": "_KJm_vnI63Xy"
      }
    },
    {
      "cell_type": "code",
      "source": [
        "from super_gradients.training import models\n",
        "\n",
        "model = models.get(\n",
        "    MODEL_ARCH,\n",
        "    num_classes=len(dataset_params['classes']),\n",
        "    pretrained_weights=\"coco\"\n",
        ")"
      ],
      "metadata": {
        "id": "bDXE1gM362jh"
      },
      "execution_count": null,
      "outputs": []
    },
    {
      "cell_type": "markdown",
      "source": [
        "### Define metrics and training parameters"
      ],
      "metadata": {
        "id": "UkMc-BA_6_B3"
      }
    },
    {
      "cell_type": "code",
      "source": [
        "from super_gradients.training.losses import PPYoloELoss\n",
        "from super_gradients.training.metrics import DetectionMetrics_050\n",
        "from super_gradients.training.models.detection_models.pp_yolo_e import PPYoloEPostPredictionCallback\n",
        "\n",
        "train_params = {\n",
        "    'silent_mode': False,\n",
        "    \"average_best_models\":True,\n",
        "    \"warmup_mode\": \"linear_epoch_step\",\n",
        "    \"warmup_initial_lr\": 1e-6,\n",
        "    \"lr_warmup_epochs\": 3,\n",
        "    \"initial_lr\": 5e-4,\n",
        "    \"lr_mode\": \"cosine\",\n",
        "    \"cosine_final_lr_ratio\": 0.1,\n",
        "    \"optimizer\": \"Adam\",\n",
        "    \"optimizer_params\": {\"weight_decay\": 0.0001},\n",
        "    \"zero_weight_decay_on_bias_and_bn\": True,\n",
        "    \"ema\": True,\n",
        "    \"ema_params\": {\"decay\": 0.9, \"decay_type\": \"threshold\"},\n",
        "    \"max_epochs\": MAX_EPOCHS,\n",
        "    \"mixed_precision\": True,\n",
        "    \"loss\": PPYoloELoss(\n",
        "        use_static_assigner=False,\n",
        "        num_classes=len(dataset_params['classes']),\n",
        "        reg_max=16\n",
        "    ),\n",
        "    \"valid_metrics_list\": [\n",
        "        DetectionMetrics_050(\n",
        "            score_thres=SCORE_THRSHOLD,\n",
        "            top_k_predictions=300,\n",
        "            num_cls=len(dataset_params['classes']),\n",
        "            normalize_targets=True,\n",
        "            post_prediction_callback=PPYoloEPostPredictionCallback(\n",
        "                score_threshold=0.01,\n",
        "                nms_top_k=1000,\n",
        "                max_predictions=300,\n",
        "                nms_threshold=0.7\n",
        "            )\n",
        "        )\n",
        "    ],\n",
        "    \"metric_to_watch\": 'mAP@0.50'\n",
        "}"
      ],
      "metadata": {
        "id": "Ua0o9gXF678z"
      },
      "execution_count": null,
      "outputs": []
    },
    {
      "cell_type": "markdown",
      "source": [
        "### Train the model"
      ],
      "metadata": {
        "id": "UsJ5ESdQ7B-5"
      }
    },
    {
      "cell_type": "code",
      "source": [
        "trainer.train(\n",
        "    model=model,\n",
        "    training_params=train_params,\n",
        "    train_loader=train_data,\n",
        "    valid_loader=val_data\n",
        ")"
      ],
      "metadata": {
        "id": "D96ODpIL7EIh"
      },
      "execution_count": null,
      "outputs": []
    },
    {
      "cell_type": "markdown",
      "source": [
        "### Analyze training metrics"
      ],
      "metadata": {
        "id": "UwBaeyXa7LgI"
      }
    },
    {
      "cell_type": "code",
      "source": [
        "%load_ext tensorboard\n",
        "%tensorboard --logdir {CHECKPOINT_DIR}/{EXPERIMENT_NAME}"
      ],
      "metadata": {
        "id": "7seXnCt87J7Y"
      },
      "execution_count": null,
      "outputs": []
    },
    {
      "cell_type": "markdown",
      "source": [
        "### Zip and download fine-tuned model"
      ],
      "metadata": {
        "id": "ImR7IXTE7U8i"
      }
    },
    {
      "cell_type": "code",
      "source": [
        "# if you experience 'NotImplementedError: A UTF-8 locale is required. Got ANSI_X3.4-1968' error, run code below 👇\n",
        "\n",
        "import locale\n",
        "locale.getpreferredencoding = lambda: \"UTF-8\""
      ],
      "metadata": {
        "id": "l6rDj0UP7Xfe"
      },
      "execution_count": null,
      "outputs": []
    },
    {
      "cell_type": "code",
      "source": [
        "!zip -r yolo_nas.zip {CHECKPOINT_DIR}/{EXPERIMENT_NAME}"
      ],
      "metadata": {
        "id": "oxJpwvmM7ZfP"
      },
      "execution_count": null,
      "outputs": []
    },
    {
      "cell_type": "markdown",
      "source": [
        "可以使用以下程式碼將資料轉移至自己的 google 雲端 ( address 要修改就是了 )"
      ],
      "metadata": {
        "id": "-tR1BqNOaj1H"
      }
    },
    {
      "cell_type": "code",
      "source": [
        "import locale\n",
        "locale.getpreferredencoding = lambda: \"UTF-8\"\n",
        "%cp \"/content/checkpoints/nanshang_tomb/average_model.pth\" \"/content/drive/MyDrive/project_NanShang/resources/average_modelbest.pth\""
      ],
      "metadata": {
        "id": "gXoj3WsLaXms"
      },
      "execution_count": null,
      "outputs": []
    },
    {
      "cell_type": "markdown",
      "source": [
        "## 記得將 checkpoints/nanshang_tomb 資料夾中的 average_model.pth 文件下載下來，此文件將在後續的物件偵測中被使用到。\n",
        "其本上 fine-tune 模型就到這裡就完成了。接下來可以到 Predicting_mask_for_tifimage.ipynb 來產生 shp 檔"
      ],
      "metadata": {
        "id": "pCkDqAJK7bWU"
      }
    },
    {
      "cell_type": "markdown",
      "source": [
        "### (想要檢查 model 辨識能力的人請繼續閱讀)\n",
        "- 以下會在 testing dataset 中實際呈現辨識完的照片"
      ],
      "metadata": {
        "id": "yCu0plF0a6jj"
      }
    },
    {
      "cell_type": "markdown",
      "source": [
        "#### Evaluate trained model"
      ],
      "metadata": {
        "id": "i2zcf2kaXu_A"
      }
    },
    {
      "cell_type": "code",
      "source": [
        "trainer.test(\n",
        "    model=model,\n",
        "    test_loader=test_data,\n",
        "    test_metrics_list=DetectionMetrics_050(\n",
        "        score_thres=SCORE_THRSHOLD,\n",
        "        top_k_predictions=300,\n",
        "        num_cls=len(dataset_params['classes']),\n",
        "        normalize_targets=True,\n",
        "        post_prediction_callback=PPYoloEPostPredictionCallback(\n",
        "            score_threshold=0.01,\n",
        "            nms_top_k=1000,\n",
        "            max_predictions=300,\n",
        "            nms_threshold=0.7\n",
        "        )\n",
        "    )\n",
        ")"
      ],
      "metadata": {
        "id": "aRktMb7_Xivp"
      },
      "execution_count": null,
      "outputs": []
    },
    {
      "cell_type": "markdown",
      "source": [
        "#### Inference with trained model"
      ],
      "metadata": {
        "id": "xYMqGZTkX5eJ"
      }
    },
    {
      "cell_type": "code",
      "source": [
        "\n",
        "import supervision as sv\n",
        "\n",
        "ds = sv.DetectionDataset.from_yolo(\n",
        "    images_directory_path=f\"{dataset.location}/test/images\",\n",
        "    annotations_directory_path=f\"{dataset.location}/test/labels\",\n",
        "    data_yaml_path=f\"{dataset.location}/data.yaml\",\n",
        "    force_masks=False\n",
        ")\n",
        "\n",
        "\n",
        "import supervision as sv\n",
        "\n",
        "CONFIDENCE_TRESHOLD = 0.65\n",
        "\n",
        "predictions = {}\n",
        "\n",
        "for image_name, image in ds.images.items():\n",
        "    result = list(model.predict(image, conf=CONFIDENCE_TRESHOLD))[0]\n",
        "    detections = sv.Detections(\n",
        "        xyxy=result.prediction.bboxes_xyxy,\n",
        "        confidence=result.prediction.confidence,\n",
        "        class_id=result.prediction.labels.astype(int)\n",
        "    )\n",
        "    predictions[image_name] = detections"
      ],
      "metadata": {
        "id": "BKESIXeFXmby"
      },
      "execution_count": null,
      "outputs": []
    },
    {
      "cell_type": "markdown",
      "source": [
        "#### Visualize inference results"
      ],
      "metadata": {
        "id": "UsRfTA9pX8_V"
      }
    },
    {
      "cell_type": "code",
      "source": [
        "import random\n",
        "random.seed(9)\n",
        "\n",
        "import supervision as sv\n",
        "\n",
        "MAX_IMAGE_COUNT = 5\n",
        "\n",
        "n = min(MAX_IMAGE_COUNT, len(ds.images))\n",
        "\n",
        "keys = list(ds.images.keys())\n",
        "keys = random.sample(keys, n)\n",
        "\n",
        "box_annotator = sv.BoxAnnotator()\n",
        "\n",
        "images = []\n",
        "titles = []\n",
        "\n",
        "for key in keys:\n",
        "    frame_with_annotations = box_annotator.annotate(\n",
        "        scene=ds.images[key].copy(),\n",
        "        detections=ds.annotations[key],\n",
        "        skip_label=True\n",
        "    )\n",
        "    images.append(frame_with_annotations)\n",
        "    titles.append('annotations')\n",
        "    frame_with_predictions = box_annotator.annotate(\n",
        "        scene=ds.images[key].copy(),\n",
        "        detections=predictions[key],\n",
        "        skip_label=True\n",
        "    )\n",
        "    images.append(frame_with_predictions)\n",
        "    titles.append('predictions')\n",
        "\n",
        "%matplotlib inline\n",
        "sv.plot_images_grid(images=images, titles=titles, grid_size=(n, 2), size=(2 * 4, n * 4))"
      ],
      "metadata": {
        "id": "-J9xAYFTXozH"
      },
      "execution_count": null,
      "outputs": []
    }
  ]
}