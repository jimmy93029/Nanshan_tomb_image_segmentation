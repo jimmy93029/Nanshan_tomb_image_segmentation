{
 "cells": [
  {
   "cell_type": "markdown",
   "metadata": {
    "colab_type": "text",
    "id": "view-in-github"
   },
   "source": [
    "<a href=\"https://colab.research.google.com/github/jimmy93029/Nanshan_tomb_image_segmentation/blob/main/docs/Training_object_detection_model_resultbook.ipynb\" target=\"_parent\"><img src=\"https://colab.research.google.com/assets/colab-badge.svg\" alt=\"Open In Colab\"/></a>"
   ]
  },
  {
   "cell_type": "markdown",
   "metadata": {
    "id": "AiqNn7Ca1sob"
   },
   "source": [
    "## Training_object_detection_model_resultbook"
   ]
  },
  {
   "cell_type": "markdown",
   "metadata": {
    "id": "mxd40UGx16TX"
   },
   "source": [
    "此 colab 程式碼負責訓練模型。訓練好的模型可以在 Project_Nanshang or Predicting_mask_for_tifimage.ipynb 來建構地圖遮罩的 shp 檔。\n",
    "另外，本程式碼是從 Roboflow [train-yolo-nas-on-custom-dataset.ipynb](https://github.com/roboflow/notebooks/blob/main/notebooks/train-yolo-nas-on-custom-dataset.ipynb) 而來，更多細節可以參考 Roboflow 的教程"
   ]
  },
  {
   "cell_type": "markdown",
   "metadata": {
    "id": "ezMvuPAM2_G6"
   },
   "source": [
    "### ⚡ Before you start\n",
    "\n",
    "Let's make sure that we have access to GPU. We can use `nvidia-smi` command to do that. In case of any problems navigate to `Edit` -> `Notebook settings` -> `Hardware accelerator`, set it to `GPU`, and then click `Save`."
   ]
  },
  {
   "cell_type": "code",
   "execution_count": 1,
   "metadata": {
    "id": "P7U1ci3F25do"
   },
   "outputs": [
    {
     "name": "stdout",
     "output_type": "stream",
     "text": [
      "/bin/bash: line 1: nvidia-smi: command not found\r\n"
     ]
    }
   ],
   "source": [
    "!nvidia-smi"
   ]
  },
  {
   "cell_type": "markdown",
   "metadata": {
    "id": "LwS8yEQT555y"
   },
   "source": [
    "**NOTE:** To make it easier for us to manage datasets, images and models we create a `HOME` constant."
   ]
  },
  {
   "cell_type": "code",
   "execution_count": 2,
   "metadata": {
    "colab": {
     "base_uri": "https://localhost:8080/"
    },
    "id": "bY_DJZ7I50zw",
    "outputId": "0340c061-7150-450a-e1a0-86813e65d749"
   },
   "outputs": [
    {
     "name": "stdout",
     "output_type": "stream",
     "text": [
      "/mnt/c/coding/python/Project_Nanshang/docs/books\n"
     ]
    }
   ],
   "source": [
    "import os\n",
    "HOME = os.getcwd()\n",
    "print(HOME)"
   ]
  },
  {
   "cell_type": "markdown",
   "metadata": {
    "id": "cv9HGmAd6BoC"
   },
   "source": [
    "### Then, we are going to train our object detection model"
   ]
  },
  {
   "cell_type": "markdown",
   "metadata": {
    "id": "h1_xD2Ic4CiT"
   },
   "source": [
    "#### Install YOLO-NAS"
   ]
  },
  {
   "cell_type": "code",
   "execution_count": 3,
   "metadata": {
    "id": "9Do6gZ0C4Awv"
   },
   "outputs": [
    {
     "name": "stdout",
     "output_type": "stream",
     "text": [
      "^C\r\n",
      "\u001b[31mERROR: Operation cancelled by user\u001b[0m\u001b[31m\r\n",
      "\u001b[0m"
     ]
    }
   ],
   "source": [
    "!pip install -q super-gradients==3.1.3\n",
    "!pip install -q roboflow\n",
    "!pip install -q supervision"
   ]
  },
  {
   "cell_type": "markdown",
   "metadata": {
    "id": "rjaY5ZH-4Ian"
   },
   "source": [
    "### 🚨 Restart the runtime\n",
    "\n",
    "**After installation is complete, you'll need to restart the runtime after installation completes. Navigate to `Runtime` -> `Restart runtime` and confirm by clicking `Yes` when you see the popup.**\n",
    "\n",
    "After that, carry on with the notebook starting from the cell below"
   ]
  },
  {
   "cell_type": "code",
   "execution_count": null,
   "metadata": {
    "id": "bfRvqVhJ4OQh"
   },
   "outputs": [],
   "source": [
    "import torch\n",
    "\n",
    "DEVICE = 'cuda' if torch.cuda.is_available() else \"cpu\"\n",
    "MODEL_ARCH = 'yolo_nas_l'"
   ]
  },
  {
   "cell_type": "code",
   "execution_count": null,
   "metadata": {
    "id": "svDPtEXK4Qad"
   },
   "outputs": [],
   "source": [
    "from super_gradients.training import models\n",
    "\n",
    "model = models.get(MODEL_ARCH, pretrained_weights=\"coco\").to(DEVICE)"
   ]
  },
  {
   "cell_type": "markdown",
   "metadata": {
    "id": "nD0hleI64dL8"
   },
   "source": [
    "### Roboflow provide a strong platform for us to annotate and preprocess our data,\n",
    "In this project, we will also use roboflow's tool to store our data.\n",
    "make sure you are already have a project on roboflow\n",
    "\n",
    "[![Roboflow Universe](https://media.roboflow.com/notebooks/template/uni-banner-frame.png?ik-sdk-version=javascript-1.4.3&updatedAt=1672878480290)](https://universe.roboflow.com/)"
   ]
  },
  {
   "cell_type": "markdown",
   "metadata": {
    "id": "Yef9ESCI5eW1"
   },
   "source": [
    "Let's login roboflow and spedify our project name"
   ]
  },
  {
   "cell_type": "code",
   "execution_count": null,
   "metadata": {
    "colab": {
     "base_uri": "https://localhost:8080/"
    },
    "id": "P7X2VyOq5HBe",
    "outputId": "7b4a6ad6-fbea-4894-8ae6-9eda20607f42"
   },
   "outputs": [
    {
     "name": "stdout",
     "output_type": "stream",
     "text": [
      "/content\n",
      "\r",
      "visit https://app.roboflow.com/auth-cli to get your authentication token.\n",
      "Paste the authentication token here: ··········\n",
      "loading Roboflow workspace...\n",
      "loading Roboflow project...\n",
      "Downloading Dataset Version Zip in NanShang_tomb-1 to yolov5pytorch: 100% [22291323 / 22291323] bytes\n"
     ]
    }
   ],
   "source": [
    "\n",
    "%cd {HOME}\n",
    "\n",
    "import roboflow\n",
    "from roboflow import Roboflow\n",
    "\n",
    "roboflow.login()\n",
    "\n",
    "rf = Roboflow()\n",
    "\n",
    "project = rf.workspace().project(\"nanshang_tomb\")\n",
    "dataset = project.version(1).download(\"yolov5\")"
   ]
  },
  {
   "cell_type": "code",
   "execution_count": null,
   "metadata": {
    "id": "HCJnSBr85w2K"
   },
   "outputs": [],
   "source": [
    "LOCATION = dataset.location\n",
    "print(\"location:\", LOCATION)\n",
    "CLASSES = sorted(project.classes.keys())\n",
    "print(\"classes:\", CLASSES)"
   ]
  },
  {
   "cell_type": "markdown",
   "metadata": {
    "id": "hi2B12oZ6pLF"
   },
   "source": [
    "## Fine-tune on custom dataset\n",
    "\n",
    "`ckpt_root_dir` - this is the directory where results from all your experiments will be saved\n",
    "\n",
    "`experiment_name` - all checkpoints, logs, and tensorboards will be saved in a directory with the name you specify here."
   ]
  },
  {
   "cell_type": "markdown",
   "metadata": {
    "id": "1Ebl6mDFSKfO"
   },
   "source": [
    "### settings"
   ]
  },
  {
   "cell_type": "code",
   "execution_count": null,
   "metadata": {
    "id": "ezGQguZ36sBO"
   },
   "outputs": [],
   "source": [
    "MODEL_ARCH = 'yolo_nas_l'\n",
    "BATCH_SIZE = 8\n",
    "MAX_EPOCHS = 30\n",
    "SCORE_THRSHOLD = 0.5\n",
    "CHECKPOINT_DIR = f'{HOME}/checkpoints'\n",
    "EXPERIMENT_NAME = project.name.lower().replace(\" \", \"_\")"
   ]
  },
  {
   "cell_type": "code",
   "execution_count": null,
   "metadata": {
    "id": "yXGoFPW16t59"
   },
   "outputs": [],
   "source": [
    "from super_gradients.training import Trainer\n",
    "\n",
    "trainer = Trainer(experiment_name=EXPERIMENT_NAME, ckpt_root_dir=CHECKPOINT_DIR)"
   ]
  },
  {
   "cell_type": "code",
   "execution_count": null,
   "metadata": {
    "id": "CttpAci16vYJ"
   },
   "outputs": [],
   "source": [
    "dataset_params = {\n",
    "    'data_dir': LOCATION,\n",
    "    'train_images_dir':'train/images',\n",
    "    'train_labels_dir':'train/labels',\n",
    "    'val_images_dir':'valid/images',\n",
    "    'val_labels_dir':'valid/labels',\n",
    "    'test_images_dir':'test/images',\n",
    "    'test_labels_dir':'test/labels',\n",
    "    'classes': CLASSES\n",
    "}"
   ]
  },
  {
   "cell_type": "code",
   "execution_count": null,
   "metadata": {
    "colab": {
     "base_uri": "https://localhost:8080/"
    },
    "id": "VGxTCjyf6x5G",
    "outputId": "9fd75759-1c0f-49cb-a6aa-c88f77600016"
   },
   "outputs": [
    {
     "name": "stderr",
     "output_type": "stream",
     "text": [
      "\r",
      "Caching annotations:   0%|          | 0/537 [00:00<?, ?it/s]\r",
      "Caching annotations:  98%|█████████▊| 525/537 [00:00<00:00, 5244.80it/s]\r",
      "Caching annotations: 100%|██████████| 537/537 [00:00<00:00, 5250.27it/s]\n"
     ]
    }
   ],
   "source": [
    "from super_gradients.training.dataloaders.dataloaders import (\n",
    "    coco_detection_yolo_format_train, coco_detection_yolo_format_val)\n",
    "\n",
    "train_data = coco_detection_yolo_format_train(\n",
    "    dataset_params={\n",
    "        'data_dir': dataset_params['data_dir'],\n",
    "        'images_dir': dataset_params['train_images_dir'],\n",
    "        'labels_dir': dataset_params['train_labels_dir'],\n",
    "        'classes': dataset_params['classes']\n",
    "    },\n",
    "    dataloader_params={\n",
    "        'batch_size': BATCH_SIZE,\n",
    "        'num_workers': 2\n",
    "    }\n",
    ")\n",
    "\n",
    "val_data = coco_detection_yolo_format_val(\n",
    "    dataset_params={\n",
    "        'data_dir': dataset_params['data_dir'],\n",
    "        'images_dir': dataset_params['val_images_dir'],\n",
    "        'labels_dir': dataset_params['val_labels_dir'],\n",
    "        'classes': dataset_params['classes']\n",
    "    },\n",
    "    dataloader_params={\n",
    "        'batch_size': BATCH_SIZE,\n",
    "        'num_workers': 2\n",
    "    }\n",
    ")\n",
    "\n",
    "test_data = coco_detection_yolo_format_val(\n",
    "    dataset_params={\n",
    "        'data_dir': dataset_params['data_dir'],\n",
    "        'images_dir': dataset_params['test_images_dir'],\n",
    "        'labels_dir': dataset_params['test_labels_dir'],\n",
    "        'classes': dataset_params['classes']\n",
    "    },\n",
    "    dataloader_params={\n",
    "        'batch_size': BATCH_SIZE,\n",
    "        'num_workers': 2\n",
    "    }\n",
    ")"
   ]
  },
  {
   "cell_type": "markdown",
   "metadata": {
    "id": "_KJm_vnI63Xy"
   },
   "source": [
    "### Instantiate the model"
   ]
  },
  {
   "cell_type": "code",
   "execution_count": null,
   "metadata": {
    "id": "bDXE1gM362jh"
   },
   "outputs": [],
   "source": [
    "from super_gradients.training import models\n",
    "\n",
    "model = models.get(\n",
    "    MODEL_ARCH,\n",
    "    num_classes=len(dataset_params['classes']),\n",
    "    pretrained_weights=\"coco\"\n",
    ")"
   ]
  },
  {
   "cell_type": "markdown",
   "metadata": {
    "id": "UkMc-BA_6_B3"
   },
   "source": [
    "### Define metrics and training parameters"
   ]
  },
  {
   "cell_type": "code",
   "execution_count": null,
   "metadata": {
    "id": "Ua0o9gXF678z"
   },
   "outputs": [],
   "source": [
    "from super_gradients.training.losses import PPYoloELoss\n",
    "from super_gradients.training.metrics import DetectionMetrics_050\n",
    "from super_gradients.training.models.detection_models.pp_yolo_e import PPYoloEPostPredictionCallback\n",
    "\n",
    "train_params = {\n",
    "    'silent_mode': False,\n",
    "    \"average_best_models\":True,\n",
    "    \"warmup_mode\": \"linear_epoch_step\",\n",
    "    \"warmup_initial_lr\": 1e-6,\n",
    "    \"lr_warmup_epochs\": 3,\n",
    "    \"initial_lr\": 5e-4,\n",
    "    \"lr_mode\": \"cosine\",\n",
    "    \"cosine_final_lr_ratio\": 0.1,\n",
    "    \"optimizer\": \"Adam\",\n",
    "    \"optimizer_params\": {\"weight_decay\": 0.0001},\n",
    "    \"zero_weight_decay_on_bias_and_bn\": True,\n",
    "    \"ema\": True,\n",
    "    \"ema_params\": {\"decay\": 0.9, \"decay_type\": \"threshold\"},\n",
    "    \"max_epochs\": MAX_EPOCHS,\n",
    "    \"mixed_precision\": True,\n",
    "    \"loss\": PPYoloELoss(\n",
    "        use_static_assigner=False,\n",
    "        num_classes=len(dataset_params['classes']),\n",
    "        reg_max=16\n",
    "    ),\n",
    "    \"valid_metrics_list\": [\n",
    "        DetectionMetrics_050(\n",
    "            score_thres=SCORE_THRSHOLD,\n",
    "            top_k_predictions=300,\n",
    "            num_cls=len(dataset_params['classes']),\n",
    "            normalize_targets=True,\n",
    "            post_prediction_callback=PPYoloEPostPredictionCallback(\n",
    "                score_threshold=0.01,\n",
    "                nms_top_k=1000,\n",
    "                max_predictions=300,\n",
    "                nms_threshold=0.7\n",
    "            )\n",
    "        )\n",
    "    ],\n",
    "    \"metric_to_watch\": 'mAP@0.50'\n",
    "}"
   ]
  },
  {
   "cell_type": "markdown",
   "metadata": {
    "id": "UsJ5ESdQ7B-5"
   },
   "source": [
    "### Train the model"
   ]
  },
  {
   "cell_type": "code",
   "execution_count": null,
   "metadata": {
    "id": "D96ODpIL7EIh"
   },
   "outputs": [],
   "source": [
    "trainer.train(\n",
    "    model=model,\n",
    "    training_params=train_params,\n",
    "    train_loader=train_data,\n",
    "    valid_loader=val_data\n",
    ")"
   ]
  },
  {
   "cell_type": "markdown",
   "metadata": {
    "id": "UwBaeyXa7LgI"
   },
   "source": [
    "### Analyze training metrics"
   ]
  },
  {
   "cell_type": "code",
   "execution_count": null,
   "metadata": {
    "id": "7seXnCt87J7Y"
   },
   "outputs": [],
   "source": [
    "%load_ext tensorboard\n",
    "%tensorboard --logdir {CHECKPOINT_DIR}/{EXPERIMENT_NAME}"
   ]
  },
  {
   "cell_type": "markdown",
   "metadata": {
    "id": "ImR7IXTE7U8i"
   },
   "source": [
    "### Zip and download fine-tuned model"
   ]
  },
  {
   "cell_type": "code",
   "execution_count": null,
   "metadata": {
    "id": "l6rDj0UP7Xfe"
   },
   "outputs": [],
   "source": [
    "# if you experience 'NotImplementedError: A UTF-8 locale is required. Got ANSI_X3.4-1968' error, run code below 👇\n",
    "\n",
    "import locale\n",
    "locale.getpreferredencoding = lambda: \"UTF-8\""
   ]
  },
  {
   "cell_type": "code",
   "execution_count": null,
   "metadata": {
    "id": "oxJpwvmM7ZfP"
   },
   "outputs": [],
   "source": [
    "!zip -r yolo_nas.zip {CHECKPOINT_DIR}/{EXPERIMENT_NAME}"
   ]
  },
  {
   "cell_type": "markdown",
   "metadata": {
    "id": "-tR1BqNOaj1H"
   },
   "source": [
    "可以使用以下程式碼將資料轉移至自己的 google 雲端 ( address 要修改就是了 )"
   ]
  },
  {
   "cell_type": "code",
   "execution_count": null,
   "metadata": {
    "id": "gXoj3WsLaXms"
   },
   "outputs": [],
   "source": [
    "import locale\n",
    "locale.getpreferredencoding = lambda: \"UTF-8\"\n",
    "%cp \"/content/checkpoints/nanshang_tomb/average_model.pth\" \"/content/drive/MyDrive/project_NanShang/resources/average_modelbest.pth\""
   ]
  },
  {
   "cell_type": "markdown",
   "metadata": {
    "id": "pCkDqAJK7bWU"
   },
   "source": [
    "## 記得將 checkpoints/nanshang_tomb 資料夾中的 average_model.pth 文件下載下來，此文件將在後續的物件偵測中被使用到。\n",
    "其本上 fine-tune 模型就到這裡就完成了。接下來可以到 Predicting_mask_for_tifimage.ipynb 來產生 shp 檔"
   ]
  },
  {
   "cell_type": "markdown",
   "metadata": {
    "id": "yCu0plF0a6jj"
   },
   "source": [
    "### (想要檢查 model 辨識能力的人請繼續閱讀)\n",
    "- 以下會在 testing dataset 中實際呈現辨識完的照片"
   ]
  },
  {
   "cell_type": "markdown",
   "metadata": {
    "id": "i2zcf2kaXu_A"
   },
   "source": [
    "#### Evaluate trained model"
   ]
  },
  {
   "cell_type": "code",
   "execution_count": null,
   "metadata": {
    "id": "aRktMb7_Xivp"
   },
   "outputs": [],
   "source": [
    "trainer.test(\n",
    "    model=model,\n",
    "    test_loader=test_data,\n",
    "    test_metrics_list=DetectionMetrics_050(\n",
    "        score_thres=SCORE_THRSHOLD,\n",
    "        top_k_predictions=300,\n",
    "        num_cls=len(dataset_params['classes']),\n",
    "        normalize_targets=True,\n",
    "        post_prediction_callback=PPYoloEPostPredictionCallback(\n",
    "            score_threshold=0.01,\n",
    "            nms_top_k=1000,\n",
    "            max_predictions=300,\n",
    "            nms_threshold=0.7\n",
    "        )\n",
    "    )\n",
    ")"
   ]
  },
  {
   "cell_type": "markdown",
   "metadata": {
    "id": "xYMqGZTkX5eJ"
   },
   "source": [
    "#### Inference with trained model"
   ]
  },
  {
   "cell_type": "code",
   "execution_count": null,
   "metadata": {
    "id": "BKESIXeFXmby"
   },
   "outputs": [],
   "source": [
    "\n",
    "import supervision as sv\n",
    "\n",
    "ds = sv.DetectionDataset.from_yolo(\n",
    "    images_directory_path=f\"{dataset.location}/test/images\",\n",
    "    annotations_directory_path=f\"{dataset.location}/test/labels\",\n",
    "    data_yaml_path=f\"{dataset.location}/data.yaml\",\n",
    "    force_masks=False\n",
    ")\n",
    "\n",
    "\n",
    "import supervision as sv\n",
    "\n",
    "CONFIDENCE_TRESHOLD = 0.65\n",
    "\n",
    "predictions = {}\n",
    "\n",
    "for image_name, image in ds.images.items():\n",
    "    result = list(model.predict(image, conf=CONFIDENCE_TRESHOLD))[0]\n",
    "    detections = sv.Detections(\n",
    "        xyxy=result.prediction.bboxes_xyxy,\n",
    "        confidence=result.prediction.confidence,\n",
    "        class_id=result.prediction.labels.astype(int)\n",
    "    )\n",
    "    predictions[image_name] = detections"
   ]
  },
  {
   "cell_type": "markdown",
   "metadata": {
    "id": "UsRfTA9pX8_V"
   },
   "source": [
    "#### Visualize inference results"
   ]
  },
  {
   "cell_type": "code",
   "execution_count": null,
   "metadata": {
    "id": "-J9xAYFTXozH"
   },
   "outputs": [],
   "source": [
    "import random\n",
    "random.seed(9)\n",
    "\n",
    "import supervision as sv\n",
    "\n",
    "MAX_IMAGE_COUNT = 5\n",
    "\n",
    "n = min(MAX_IMAGE_COUNT, len(ds.images))\n",
    "\n",
    "keys = list(ds.images.keys())\n",
    "keys = random.sample(keys, n)\n",
    "\n",
    "box_annotator = sv.BoxAnnotator()\n",
    "\n",
    "images = []\n",
    "titles = []\n",
    "\n",
    "for key in keys:\n",
    "    frame_with_annotations = box_annotator.annotate(\n",
    "        scene=ds.images[key].copy(),\n",
    "        detections=ds.annotations[key],\n",
    "        skip_label=True\n",
    "    )\n",
    "    images.append(frame_with_annotations)\n",
    "    titles.append('annotations')\n",
    "    frame_with_predictions = box_annotator.annotate(\n",
    "        scene=ds.images[key].copy(),\n",
    "        detections=predictions[key],\n",
    "        skip_label=True\n",
    "    )\n",
    "    images.append(frame_with_predictions)\n",
    "    titles.append('predictions')\n",
    "\n",
    "%matplotlib inline\n",
    "sv.plot_images_grid(images=images, titles=titles, grid_size=(n, 2), size=(2 * 4, n * 4))"
   ]
  }
 ],
 "metadata": {
  "accelerator": "GPU",
  "colab": {
   "authorship_tag": "ABX9TyMR0cIkVxSmHbGfACMIyCRG",
   "gpuType": "T4",
   "include_colab_link": true,
   "machine_shape": "hm",
   "mount_file_id": "https://github.com/jimmy93029/Nanshan_tomb_image_segmentation/blob/main/Training_object_detection_model_workbook.ipynb",
   "provenance": []
  },
  "kernelspec": {
   "display_name": "Python 3",
   "name": "python3"
  },
  "language_info": {
   "codemirror_mode": {
    "name": "ipython",
    "version": 3
   },
   "file_extension": ".py",
   "mimetype": "text/x-python",
   "name": "python",
   "nbconvert_exporter": "python",
   "pygments_lexer": "ipython3",
   "version": "3.10.6"
  }
 },
 "nbformat": 4,
 "nbformat_minor": 0
}