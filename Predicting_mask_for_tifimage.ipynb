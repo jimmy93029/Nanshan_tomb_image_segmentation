{
  "nbformat": 4,
  "nbformat_minor": 0,
  "metadata": {
    "colab": {
      "provenance": [],
      "machine_shape": "hm",
      "gpuType": "T4",
      "mount_file_id": "https://github.com/jimmy93029/Nanshan_tomb_image_segmentation.ipynb/blob/master/Predicting_mask_for_tifimage.ipynb",
      "authorship_tag": "ABX9TyONwIF+IsF5R0ZwinD8sPby",
      "include_colab_link": true
    },
    "kernelspec": {
      "name": "python3",
      "display_name": "Python 3"
    },
    "language_info": {
      "name": "python"
    },
    "accelerator": "GPU"
  },
  "cells": [
    {
      "cell_type": "markdown",
      "metadata": {
        "id": "view-in-github",
        "colab_type": "text"
      },
      "source": [
        "<a href=\"https://colab.research.google.com/github/jimmy93029/Nanshan_tomb_image_segmentation.ipynb/blob/master/Predicting_mask_for_tifimage.ipynb\" target=\"_parent\"><img src=\"https://colab.research.google.com/assets/colab-badge.svg\" alt=\"Open In Colab\"/></a>"
      ]
    },
    {
      "cell_type": "markdown",
      "source": [
        "### install package\n",
        "( be aware that super-gradients sometimes change their package ralease version,\n",
        "so please update super-gradients to the latest version to avoid some error about super-gradients)"
      ],
      "metadata": {
        "id": "OmDnP3PR1FOf"
      }
    },
    {
      "cell_type": "code",
      "source": [
        "%pip install segment-geospatial"
      ],
      "metadata": {
        "id": "2mH34ZRJ0hgF",
        "outputId": "843f92a7-725e-4645-c086-068d78e919c4",
        "colab": {
          "base_uri": "https://localhost:8080/"
        }
      },
      "execution_count": 1,
      "outputs": [
        {
          "output_type": "stream",
          "name": "stdout",
          "text": [
            "Successfully installed Flask-Caching-2.0.2 affine-2.4.0 aniso8601-9.0.1 bqplot-0.12.40 cachelib-0.9.0 colour-0.1.5 flask-cors-4.0.0 flask-restx-1.1.0 geojson-3.0.1 h11-0.14.0 huggingface-hub-0.16.4 ipyevents-2.0.1 ipyfilechooser-0.6.0 ipyleaflet-0.17.3 ipytree-0.2.2 jedi-0.19.0 jsonschema-4.17.3 large-image-1.23.2 large-image-source-rasterio-1.23.2 leafmap-0.23.2 localtileserver-0.7.1 palettable-3.3.3 pyrsistent-0.19.3 pyshp-2.3.1 pystac-1.8.3 pystac-client-0.7.2 python-box-7.0.1 rasterio-1.3.8 safetensors-0.3.2 scooby-0.7.2 segment-anything-hq-0.3 segment-anything-py-1.0 segment-geospatial-0.9.1 server-thread-0.2.0 snuggs-1.4.7 timm-0.9.5 traittypes-0.2.1 uvicorn-0.23.2 whitebox-2.3.1 whiteboxgui-2.3.0\n"
          ]
        }
      ]
    },
    {
      "cell_type": "code",
      "source": [
        "!pip install super-gradients==3.2.0"
      ],
      "metadata": {
        "id": "eUqxRdn7ZQr4"
      },
      "execution_count": null,
      "outputs": []
    },
    {
      "cell_type": "code",
      "source": [
        "!pip install -q supervision"
      ],
      "metadata": {
        "id": "EZeQumdZg5oE"
      },
      "execution_count": 19,
      "outputs": []
    },
    {
      "cell_type": "code",
      "source": [
        "!pip install aspose-words"
      ],
      "metadata": {
        "id": "gTHjcvCj3zVY"
      },
      "execution_count": null,
      "outputs": []
    },
    {
      "cell_type": "code",
      "source": [
        "%cd {HOME}\n",
        "\n",
        "import sys\n",
        "!{sys.executable} -m pip install 'git+https://github.com/facebookresearch/segment-anything.git"
      ],
      "metadata": {
        "id": "gREdxdopZgw_",
        "outputId": "a628c7cc-c493-4798-fcd5-5fb2c3cbdfe4",
        "colab": {
          "base_uri": "https://localhost:8080/"
        }
      },
      "execution_count": 3,
      "outputs": [
        {
          "output_type": "stream",
          "name": "stdout",
          "text": [
            "[Errno 2] No such file or directory: '{HOME}'\n",
            "/content\n",
            "/bin/bash: -c: line 1: unexpected EOF while looking for matching `''\n",
            "/bin/bash: -c: line 2: syntax error: unexpected end of file\n"
          ]
        }
      ]
    },
    {
      "cell_type": "markdown",
      "source": [
        "then restart the runtime ?"
      ],
      "metadata": {
        "id": "a0l2q2E-jN8V"
      }
    },
    {
      "cell_type": "markdown",
      "source": [
        "### inputs and setting"
      ],
      "metadata": {
        "id": "hH-MJJGF1JjQ"
      }
    },
    {
      "cell_type": "code",
      "source": [
        "import torch\n",
        "\n",
        "inputs = {\n",
        "      \"model_arch\": 'yolo_nas_l',\n",
        "      \"num_classes\": 2,\n",
        "      \"checkpoint_path\": \"/content/drive/MyDrive/project_NanShang/resources/average_model.pth\",\n",
        "      \"sam_checkpoint_path\": \"/content/drive/MyDrive/project_NanShang/resources/sam_vit_h_4b8939.pth\",\n",
        "      \"device\": 'cuda' if torch.cuda.is_available() else \"cpu\",\n",
        "      \"confidence_threshold\": 0.35,\n",
        "      \"sam_encoder_version\": \"vit_h\",\n",
        "      \"source_tiffile\": \"/content/drive/MyDrive/project_NanShang/resources/NanShang_Tomb_cp.tif \",\n",
        "      \"tile_size\": 700,\n",
        "      \"top_left_lat\": 22.97494,\n",
        "      \"top_left_lon\": 120.19544,\n",
        "      \"below_right_lat\": 22.96717,\n",
        "      \"below_right_lon\": 120.19775,\n",
        "\n",
        "}"
      ],
      "metadata": {
        "id": "-ccV6pP20yWV"
      },
      "execution_count": 1,
      "outputs": []
    },
    {
      "cell_type": "code",
      "source": [
        "import os\n",
        "\n",
        "STOREHOUSE = \"storehouse\"\n",
        "SPLITED_TIFS_DIR = os.path.join(STOREHOUSE, \"splited_tifs\")\n",
        "MASK_DIR = os.path.join(STOREHOUSE, \"masks\")\n",
        "\n",
        "complete_mask_filename = \"map_mask\"\n",
        "COMPLETE_MASK_JPG = os.path.join(STOREHOUSE, complete_mask_filename + \".jpg\")\n",
        "COMPLETE_MASK_TIFF = os.path.join(STOREHOUSE, complete_mask_filename + \".tiff\")\n",
        "COMPLETE_MASK_GEOTIFF = os.path.join(STOREHOUSE, \"geo\" + complete_mask_filename + \".tiff\")\n",
        "\n",
        "OUTPUT_DIR = \"output\"\n",
        "data = {}"
      ],
      "metadata": {
        "id": "q-xUkprm1Dab"
      },
      "execution_count": 2,
      "outputs": []
    },
    {
      "cell_type": "markdown",
      "source": [
        "### initialize directory"
      ],
      "metadata": {
        "id": "tezphSL22DFk"
      }
    },
    {
      "cell_type": "code",
      "source": [
        "import os\n",
        "\n",
        "%cd {HOME}\n",
        "os.makedirs(OUTPUT_DIR)\n",
        "os.mkdir(STOREHOUSE)\n",
        "os.mkdir(SPLITED_TIFS_DIR)\n",
        "os.mkdir(MASK_DIR)"
      ],
      "metadata": {
        "id": "vOWbGw6G1qPP",
        "outputId": "84272d4a-7301-489d-999f-1f75d5ae188d",
        "colab": {
          "base_uri": "https://localhost:8080/"
        }
      },
      "execution_count": 6,
      "outputs": [
        {
          "output_type": "stream",
          "name": "stdout",
          "text": [
            "[Errno 2] No such file or directory: '{HOME}'\n",
            "/content\n"
          ]
        }
      ]
    },
    {
      "cell_type": "markdown",
      "source": [
        "### Cropping tif"
      ],
      "metadata": {
        "id": "evQTGf5f0SGF"
      }
    },
    {
      "cell_type": "code",
      "source": [
        "from samgeo.common import split_raster\n",
        "\n",
        "split_raster(inputs[\"source_tiffile\"], SPLITED_TIFS_DIR, tile_size=inputs[\"tile_size\"])"
      ],
      "metadata": {
        "id": "S8Tb6D4P0WK5"
      },
      "execution_count": 7,
      "outputs": []
    },
    {
      "cell_type": "markdown",
      "source": [
        "### predict bounding box"
      ],
      "metadata": {
        "id": "RIZnq-Qg2RCT"
      }
    },
    {
      "cell_type": "code",
      "source": [
        "from super_gradients.training import models\n",
        "\n",
        "def load_object_detection_(model_arch: str, num_classes: int, checkpoint_path: str, device: str):\n",
        "\n",
        "    model = models.get(\n",
        "        model_arch,\n",
        "        num_classes=num_classes,\n",
        "        checkpoint_path=checkpoint_path\n",
        "    ).to(device)\n",
        "\n",
        "    return model"
      ],
      "metadata": {
        "id": "eD4mmVoF2Y3x",
        "outputId": "88a921a0-0d87-4bb1-abc6-b2d7909a812a",
        "colab": {
          "base_uri": "https://localhost:8080/"
        }
      },
      "execution_count": 3,
      "outputs": [
        {
          "output_type": "stream",
          "name": "stderr",
          "text": [
            "[2023-08-16 13:32:33] INFO - crash_tips_setup.py - Crash tips is enabled. You can set your environment variable to CRASH_HANDLER=FALSE to disable it\n"
          ]
        },
        {
          "output_type": "stream",
          "name": "stdout",
          "text": [
            "The console stream is logged into /root/sg_logs/console.log\n"
          ]
        },
        {
          "output_type": "stream",
          "name": "stderr",
          "text": [
            "[2023-08-16 13:32:35] WARNING - __init__.py - Failed to import pytorch_quantization\n",
            "[2023-08-16 13:32:40] INFO - utils.py - NumExpr defaulting to 4 threads.\n",
            "/usr/local/lib/python3.10/dist-packages/_distutils_hack/__init__.py:33: UserWarning: Setuptools is replacing distutils.\n",
            "  warnings.warn(\"Setuptools is replacing distutils.\")\n",
            "[2023-08-16 13:32:41] WARNING - calibrator.py - Failed to import pytorch_quantization\n",
            "[2023-08-16 13:32:41] WARNING - export.py - Failed to import pytorch_quantization\n",
            "[2023-08-16 13:32:41] WARNING - selective_quantization_utils.py - Failed to import pytorch_quantization\n"
          ]
        }
      ]
    },
    {
      "cell_type": "code",
      "source": [
        "import tifffile\n",
        "import numpy as np\n",
        "import supervision as sv\n",
        "\n",
        "tifs_dir = os.listdir(SPLITED_TIFS_DIR)\n",
        "box_predictor = load_object_detection_(inputs[\"model_arch\"], inputs[\"num_classes\"],\n",
        "                         inputs[\"checkpoint_path\"], inputs[\"device\"])\n",
        "data[\"detections\"] = {}\n",
        "\n",
        "num_tombs = 0\n",
        "for tif in tifs_dir:\n",
        "    # read tif as numpy array\n",
        "    image = tifffile.imread(os.path.join(SPLITED_TIFS_DIR, tif))\n",
        "    img_array = np.array(image)\n",
        "\n",
        "    # predict bounding box\n",
        "    result = list(box_predictor.predict(img_array, conf=inputs[\"confidence_threshold\"]))[0]\n",
        "    boxes = result.prediction.bboxes_xyxy\n",
        "    num_tombs += len(boxes)  # compute the number of tombs\n",
        "\n",
        "    # make sv.Detections\n",
        "    detection = sv.Detections(\n",
        "             xyxy=boxes,\n",
        "             confidence=result.prediction.confidence,\n",
        "             class_id=result.prediction.labels.astype(int)\n",
        "          )\n",
        "    data[\"detections\"][tif] = detection\n",
        "\n",
        "    # finally we get the total number of tombs\n",
        "    print(f\"the number of tombs is {num_tombs}\")\n",
        "    data[\"num_tombs\"] = num_tombs\n",
        "\n",
        "\n"
      ],
      "metadata": {
        "id": "D4JMKUtf2W5e"
      },
      "execution_count": null,
      "outputs": []
    },
    {
      "cell_type": "markdown",
      "source": [
        "### predict_mask"
      ],
      "metadata": {
        "id": "s7ZfHMk93Idy"
      }
    },
    {
      "cell_type": "code",
      "source": [
        "from segment_anything import sam_model_registry, SamPredictor\n",
        "\n",
        "def segment(sam_predictor: \"SamPredictor\", image: np.ndarray, xyxy: np.ndarray) -> np.ndarray:\n",
        "    sam_predictor.set_image(image)\n",
        "    result_masks = []\n",
        "    for box in xyxy:\n",
        "        masks, scores, logits = sam_predictor.predict(\n",
        "            box=box,\n",
        "            multimask_output=True\n",
        "        )\n",
        "        index = np.argmax(scores)\n",
        "        result_masks.append(masks[index])\n",
        "    return np.array(result_masks)\n",
        "\n",
        "def load_segment_anything_model(sam_encoder_version, sam_checkpoint_path, device):\n",
        "    sam = sam_model_registry[sam_encoder_version](checkpoint=sam_checkpoint_path).to(device=device)\n",
        "    sam_predictor = SamPredictor(sam)\n",
        "    return sam_predictor"
      ],
      "metadata": {
        "id": "hIxUQlWL3H1Q"
      },
      "execution_count": 27,
      "outputs": []
    },
    {
      "cell_type": "code",
      "source": [
        "from PIL import Image\n",
        "\n",
        "tifs_dir = os.listdir(SPLITED_TIFS_DIR)\n",
        "sam_predictor = load_segment_anything_model(inputs[\"sam_encoder_version\"], inputs[\"sam_checkpoint_path\"],\n",
        "                                    inputs[\"device\"])\n",
        "mask_annotator = sv.MaskAnnotator()\n",
        "\n",
        "for tif in tifs_dir:\n",
        "    # read tif as numpy array\n",
        "    image = tifffile.imread(os.path.join(SPLITED_TIFS_DIR, tif))\n",
        "    img_array = np.array(image)\n",
        "\n",
        "    # make detection's mask\n",
        "    data[\"detections\"][tif].mask = segment(\n",
        "          sam_predictor=sam_predictor,\n",
        "          image=img_array.copy(),\n",
        "          xyxy=data[\"detections\"][tif].xyxy\n",
        "          )\n",
        "\n",
        "    # produce mask and save as image\n",
        "    blank = np.zeros_like(img_array)\n",
        "    mask = mask_annotator.annotate(scene=blank, detections=data[\"detections\"][tif])\n",
        "    img = Image.fromarray(mask, \"RGB\")\n",
        "    img.save(os.path.join(MASK_DIR, \"mask\" + tif[4:-4] + \".jpg\"))"
      ],
      "metadata": {
        "id": "0HJ9kQqD3RDF"
      },
      "execution_count": 28,
      "outputs": []
    },
    {
      "cell_type": "markdown",
      "source": [
        "### merge tif"
      ],
      "metadata": {
        "id": "3puZVXvG3jMV"
      }
    },
    {
      "cell_type": "code",
      "source": [
        "from osgeo import gdal\n",
        "\n",
        "def read_tif(tif_path):\n",
        "    ds = gdal.Open(tif_path)\n",
        "    row = ds.RasterXSize\n",
        "    col = ds.RasterYSize\n",
        "    return row, col"
      ],
      "metadata": {
        "id": "3kmCk2Ju3nfG"
      },
      "execution_count": 29,
      "outputs": []
    },
    {
      "cell_type": "code",
      "source": [
        "width, height = read_tif(inputs[\"source_tiffile\"])\n",
        "size = inputs[\"tile_size\"]\n",
        "img = Image.new(\"RGB\", (width, height))\n",
        "mask_dir = os.listdir(MASK_DIR)\n",
        "\n",
        "# collage small image to a complete image\n",
        "for mask_filename in mask_dir:\n",
        "    im = Image.open(os.path.join(MASK_DIR, mask_filename))\n",
        "    name_list = mask_filename[:-4].split(\"_\")  # ex. turn mask_0_11.jpg into ['mask', '0', '11']\n",
        "    i = int(name_list[1])      # the 1th value in name_list indicate the order in x ray\n",
        "    j = int(name_list[2])      # the 2th value in name_list indicate the order in y ray (see samgeo.common.split_raster())\n",
        "    img.paste(im, (i * size, j * size))\n",
        "\n",
        "img.save(COMPLETE_MASK_JPG)\n"
      ],
      "metadata": {
        "id": "9VHiAH1-3mB6"
      },
      "execution_count": 31,
      "outputs": []
    },
    {
      "cell_type": "markdown",
      "source": [
        "### image to geotiff"
      ],
      "metadata": {
        "id": "exgkHC8E37T8"
      }
    },
    {
      "cell_type": "code",
      "source": [
        "import aspose.words as aw\n",
        "import rasterio\n",
        "from rasterio.transform import from_origin\n",
        "\n",
        "def jpg2tiff():\n",
        "    doc = aw.Document()\n",
        "    builder = aw.DocumentBuilder(doc)\n",
        "    shape = builder.insert_image(COMPLETE_MASK_JPG)\n",
        "    shape.image_data.save(COMPLETE_MASK_TIFF)\n",
        "\n",
        "def tiff2goetiff(below_right_lat, top_left_lat, below_right_lon, top_left_lon):\n",
        "    # Read the input TIFF\n",
        "    with rasterio.open(COMPLETE_MASK_GEOTIFF) as src:\n",
        "        data = src.read()\n",
        "        dtype = src.dtypes[0]\n",
        "        count = src.count\n",
        "        height, width = src.height, src.width\n",
        "\n",
        "    # compute horizontal pixel size and vertical pixel size in degrees\n",
        "    dis_lat = below_right_lat - top_left_lat\n",
        "    dis_lon = below_right_lon - top_left_lon\n",
        "    pixel_size_x = dis_lon / width  # Example: horizontal pixel size in degrees\n",
        "    pixel_size_y = dis_lat / height  # Example: vertical pixel size in degrees\n",
        "\n",
        "    # Define geospatial information\n",
        "    crs = 'EPSG:4326'  # Example: WGS 84\n",
        "\n",
        "    # Define the geotransform\n",
        "    transform = from_origin(top_left_lon, top_left_lat, pixel_size_x, pixel_size_y)\n",
        "\n",
        "    # Write the GeoTIFF file\n",
        "    with rasterio.open(\n",
        "            COMPLETE_MASK_GEOTIFF,\n",
        "            'w',\n",
        "            driver='GTiff',\n",
        "            height=height,\n",
        "            width=width,\n",
        "            count=count,\n",
        "            dtype=dtype,\n",
        "            crs=crs,\n",
        "            transform=transform,\n",
        "    ) as dst:\n",
        "        dst.write(data)"
      ],
      "metadata": {
        "id": "Y6ugO8s33_V2"
      },
      "execution_count": 3,
      "outputs": []
    },
    {
      "cell_type": "code",
      "source": [
        "jpg2tiff()\n",
        "tiff2goetiff(inputs[\"below_right_lat\"], inputs[\"top_left_lat\"],\n",
        "                  inputs[\"below_right_lon\"], inputs[\"top_left_lon\"])"
      ],
      "metadata": {
        "id": "YggtOznC363p"
      },
      "execution_count": null,
      "outputs": []
    },
    {
      "cell_type": "markdown",
      "source": [
        "### geotiff to shp"
      ],
      "metadata": {
        "id": "KW3U_rZX4e56"
      }
    },
    {
      "cell_type": "code",
      "source": [
        "from samgeo.common import raster_to_shp\n",
        "\n",
        "raster_to_shp(COMPLETE_MASK_GEOTIFF, OUTPUT_DIR)"
      ],
      "metadata": {
        "id": "fR4F-zG54iCn",
        "outputId": "5e4a9f86-2b69-465a-c6b2-e80bab83890d",
        "colab": {
          "base_uri": "https://localhost:8080/",
          "height": 662
        }
      },
      "execution_count": 35,
      "outputs": [
        {
          "output_type": "stream",
          "name": "stderr",
          "text": [
            "[2023-08-16 15:03:48] INFO - __init__.py - GDAL signalled an error: err_no=4, msg='storehouse/geomap_mask.tiff: No such file or directory'\n"
          ]
        },
        {
          "output_type": "error",
          "ename": "RasterioIOError",
          "evalue": "ignored",
          "traceback": [
            "\u001b[0;31m---------------------------------------------------------------------------\u001b[0m",
            "\u001b[0;31mCPLE_OpenFailedError\u001b[0m                      Traceback (most recent call last)",
            "\u001b[0;32mrasterio/_base.pyx\u001b[0m in \u001b[0;36mrasterio._base.DatasetBase.__init__\u001b[0;34m()\u001b[0m\n",
            "\u001b[0;32mrasterio/_base.pyx\u001b[0m in \u001b[0;36mrasterio._base.open_dataset\u001b[0;34m()\u001b[0m\n",
            "\u001b[0;32mrasterio/_err.pyx\u001b[0m in \u001b[0;36mrasterio._err.exc_wrap_pointer\u001b[0;34m()\u001b[0m\n",
            "\u001b[0;31mCPLE_OpenFailedError\u001b[0m: storehouse/geomap_mask.tiff: No such file or directory",
            "\nDuring handling of the above exception, another exception occurred:\n",
            "\u001b[0;31mRasterioIOError\u001b[0m                           Traceback (most recent call last)",
            "\u001b[0;32m<ipython-input-35-46b49408225f>\u001b[0m in \u001b[0;36m<cell line: 3>\u001b[0;34m()\u001b[0m\n\u001b[1;32m      1\u001b[0m \u001b[0;32mfrom\u001b[0m \u001b[0msamgeo\u001b[0m\u001b[0;34m.\u001b[0m\u001b[0mcommon\u001b[0m \u001b[0;32mimport\u001b[0m \u001b[0mraster_to_shp\u001b[0m\u001b[0;34m\u001b[0m\u001b[0;34m\u001b[0m\u001b[0m\n\u001b[1;32m      2\u001b[0m \u001b[0;34m\u001b[0m\u001b[0m\n\u001b[0;32m----> 3\u001b[0;31m \u001b[0mraster_to_shp\u001b[0m\u001b[0;34m(\u001b[0m\u001b[0mCOMPLETE_MASK_GEOTIFF\u001b[0m\u001b[0;34m,\u001b[0m \u001b[0mOUTPUT_DIR\u001b[0m\u001b[0;34m)\u001b[0m\u001b[0;34m\u001b[0m\u001b[0;34m\u001b[0m\u001b[0m\n\u001b[0m",
            "\u001b[0;32m/usr/local/lib/python3.10/dist-packages/samgeo/common.py\u001b[0m in \u001b[0;36mraster_to_shp\u001b[0;34m(tiff_path, output, simplify_tolerance, **kwargs)\u001b[0m\n\u001b[1;32m   1289\u001b[0m         \u001b[0moutput\u001b[0m \u001b[0;34m+=\u001b[0m \u001b[0;34m\".shp\"\u001b[0m\u001b[0;34m\u001b[0m\u001b[0;34m\u001b[0m\u001b[0m\n\u001b[1;32m   1290\u001b[0m \u001b[0;34m\u001b[0m\u001b[0m\n\u001b[0;32m-> 1291\u001b[0;31m     \u001b[0mraster_to_vector\u001b[0m\u001b[0;34m(\u001b[0m\u001b[0mtiff_path\u001b[0m\u001b[0;34m,\u001b[0m \u001b[0moutput\u001b[0m\u001b[0;34m,\u001b[0m \u001b[0msimplify_tolerance\u001b[0m\u001b[0;34m=\u001b[0m\u001b[0msimplify_tolerance\u001b[0m\u001b[0;34m,\u001b[0m \u001b[0;34m**\u001b[0m\u001b[0mkwargs\u001b[0m\u001b[0;34m)\u001b[0m\u001b[0;34m\u001b[0m\u001b[0;34m\u001b[0m\u001b[0m\n\u001b[0m\u001b[1;32m   1292\u001b[0m \u001b[0;34m\u001b[0m\u001b[0m\n\u001b[1;32m   1293\u001b[0m \u001b[0;34m\u001b[0m\u001b[0m\n",
            "\u001b[0;32m/usr/local/lib/python3.10/dist-packages/samgeo/common.py\u001b[0m in \u001b[0;36mraster_to_vector\u001b[0;34m(source, output, simplify_tolerance, **kwargs)\u001b[0m\n\u001b[1;32m   1240\u001b[0m     \u001b[0;32mfrom\u001b[0m \u001b[0mrasterio\u001b[0m \u001b[0;32mimport\u001b[0m \u001b[0mfeatures\u001b[0m\u001b[0;34m\u001b[0m\u001b[0;34m\u001b[0m\u001b[0m\n\u001b[1;32m   1241\u001b[0m \u001b[0;34m\u001b[0m\u001b[0m\n\u001b[0;32m-> 1242\u001b[0;31m     \u001b[0;32mwith\u001b[0m \u001b[0mrasterio\u001b[0m\u001b[0;34m.\u001b[0m\u001b[0mopen\u001b[0m\u001b[0;34m(\u001b[0m\u001b[0msource\u001b[0m\u001b[0;34m)\u001b[0m \u001b[0;32mas\u001b[0m \u001b[0msrc\u001b[0m\u001b[0;34m:\u001b[0m\u001b[0;34m\u001b[0m\u001b[0;34m\u001b[0m\u001b[0m\n\u001b[0m\u001b[1;32m   1243\u001b[0m         \u001b[0mband\u001b[0m \u001b[0;34m=\u001b[0m \u001b[0msrc\u001b[0m\u001b[0;34m.\u001b[0m\u001b[0mread\u001b[0m\u001b[0;34m(\u001b[0m\u001b[0;34m)\u001b[0m\u001b[0;34m\u001b[0m\u001b[0;34m\u001b[0m\u001b[0m\n\u001b[1;32m   1244\u001b[0m \u001b[0;34m\u001b[0m\u001b[0m\n",
            "\u001b[0;32m/usr/local/lib/python3.10/dist-packages/rasterio/env.py\u001b[0m in \u001b[0;36mwrapper\u001b[0;34m(*args, **kwds)\u001b[0m\n\u001b[1;32m    449\u001b[0m \u001b[0;34m\u001b[0m\u001b[0m\n\u001b[1;32m    450\u001b[0m         \u001b[0;32mwith\u001b[0m \u001b[0menv_ctor\u001b[0m\u001b[0;34m(\u001b[0m\u001b[0msession\u001b[0m\u001b[0;34m=\u001b[0m\u001b[0msession\u001b[0m\u001b[0;34m)\u001b[0m\u001b[0;34m:\u001b[0m\u001b[0;34m\u001b[0m\u001b[0;34m\u001b[0m\u001b[0m\n\u001b[0;32m--> 451\u001b[0;31m             \u001b[0;32mreturn\u001b[0m \u001b[0mf\u001b[0m\u001b[0;34m(\u001b[0m\u001b[0;34m*\u001b[0m\u001b[0margs\u001b[0m\u001b[0;34m,\u001b[0m \u001b[0;34m**\u001b[0m\u001b[0mkwds\u001b[0m\u001b[0;34m)\u001b[0m\u001b[0;34m\u001b[0m\u001b[0;34m\u001b[0m\u001b[0m\n\u001b[0m\u001b[1;32m    452\u001b[0m \u001b[0;34m\u001b[0m\u001b[0m\n\u001b[1;32m    453\u001b[0m     \u001b[0;32mreturn\u001b[0m \u001b[0mwrapper\u001b[0m\u001b[0;34m\u001b[0m\u001b[0;34m\u001b[0m\u001b[0m\n",
            "\u001b[0;32m/usr/local/lib/python3.10/dist-packages/rasterio/__init__.py\u001b[0m in \u001b[0;36mopen\u001b[0;34m(fp, mode, driver, width, height, count, crs, transform, dtype, nodata, sharing, **kwargs)\u001b[0m\n\u001b[1;32m    302\u001b[0m \u001b[0;34m\u001b[0m\u001b[0m\n\u001b[1;32m    303\u001b[0m         \u001b[0;32mif\u001b[0m \u001b[0mmode\u001b[0m \u001b[0;34m==\u001b[0m \u001b[0;34m\"r\"\u001b[0m\u001b[0;34m:\u001b[0m\u001b[0;34m\u001b[0m\u001b[0;34m\u001b[0m\u001b[0m\n\u001b[0;32m--> 304\u001b[0;31m             \u001b[0mdataset\u001b[0m \u001b[0;34m=\u001b[0m \u001b[0mDatasetReader\u001b[0m\u001b[0;34m(\u001b[0m\u001b[0mpath\u001b[0m\u001b[0;34m,\u001b[0m \u001b[0mdriver\u001b[0m\u001b[0;34m=\u001b[0m\u001b[0mdriver\u001b[0m\u001b[0;34m,\u001b[0m \u001b[0msharing\u001b[0m\u001b[0;34m=\u001b[0m\u001b[0msharing\u001b[0m\u001b[0;34m,\u001b[0m \u001b[0;34m**\u001b[0m\u001b[0mkwargs\u001b[0m\u001b[0;34m)\u001b[0m\u001b[0;34m\u001b[0m\u001b[0;34m\u001b[0m\u001b[0m\n\u001b[0m\u001b[1;32m    305\u001b[0m         \u001b[0;32melif\u001b[0m \u001b[0mmode\u001b[0m \u001b[0;34m==\u001b[0m \u001b[0;34m\"r+\"\u001b[0m\u001b[0;34m:\u001b[0m\u001b[0;34m\u001b[0m\u001b[0;34m\u001b[0m\u001b[0m\n\u001b[1;32m    306\u001b[0m             dataset = get_writer_for_path(path, driver=driver)(\n",
            "\u001b[0;32mrasterio/_base.pyx\u001b[0m in \u001b[0;36mrasterio._base.DatasetBase.__init__\u001b[0;34m()\u001b[0m\n",
            "\u001b[0;31mRasterioIOError\u001b[0m: storehouse/geomap_mask.tiff: No such file or directory"
          ]
        }
      ]
    },
    {
      "cell_type": "code",
      "source": [],
      "metadata": {
        "id": "yu9vcs9e38oa"
      },
      "execution_count": null,
      "outputs": []
    }
  ]
}